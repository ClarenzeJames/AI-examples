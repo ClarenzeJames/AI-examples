{
 "cells": [
  {
   "cell_type": "code",
   "execution_count": 1,
   "id": "81969b64-080e-4691-8ca8-a5ee79df7220",
   "metadata": {},
   "outputs": [],
   "source": [
    "import pybullet as p\n",
    "import pybullet_data as pd\n",
    "import creature\n",
    "\n",
    "p.connect(p.GUI)\n",
    "p.setPhysicsEngineParameter(enableFileCaching=0)\n",
    "p.configureDebugVisualizer(p.COV_ENABLE_GUI,0)\n",
    "\n",
    "# creating the floor\n",
    "floor_shape = p.createCollisionShape(p.GEOM_PLANE)\n",
    "floor =  p.createMultiBody(floor_shape,floor_shape)\n",
    "p.setRealTimeSimulation(1)\n",
    "p.setGravity(0,0,-10)"
   ]
  },
  {
   "cell_type": "code",
   "execution_count": 2,
   "id": "1d293e5e-ca19-487b-8f5b-2236222f83a2",
   "metadata": {},
   "outputs": [
    {
     "name": "stdout",
     "output_type": "stream",
     "text": [
      "3\n",
      "4\n",
      "4\n",
      "4\n",
      "4\n",
      "3\n",
      "3\n",
      "3\n",
      "3\n",
      "4\n",
      "4\n",
      "4\n",
      "4\n",
      "3\n",
      "3\n",
      "3\n",
      "3\n",
      "4\n",
      "4\n",
      "4\n",
      "4\n",
      "3\n",
      "3\n",
      "3\n",
      "2\n",
      "2\n",
      "<genome.URDFLink object at 0x00000175EA1BFBF0>\n",
      "<genome.URDFLink object at 0x00000175E9F19480>\n",
      "<genome.URDFLink object at 0x00000175EA1CBDF0>\n",
      "<genome.URDFLink object at 0x00000175E9D47550>\n",
      "<genome.URDFLink object at 0x00000175EA2A9050>\n",
      "<genome.URDFLink object at 0x00000175E9D16E40>\n",
      "<genome.URDFLink object at 0x00000175EA2DC500>\n",
      "<genome.URDFLink object at 0x00000175EA2DC5F0>\n",
      "<genome.URDFLink object at 0x00000175EA2DC6E0>\n",
      "<genome.URDFLink object at 0x00000175EA2DC7D0>\n",
      "<genome.URDFLink object at 0x00000175EA2DC8C0>\n",
      "<genome.URDFLink object at 0x00000175EA2DC9B0>\n",
      "<genome.URDFLink object at 0x00000175EA2DCAA0>\n",
      "<genome.URDFLink object at 0x00000175EA2DCB90>\n",
      "<genome.URDFLink object at 0x00000175EA2DCC80>\n",
      "<genome.URDFLink object at 0x00000175EA2DCD70>\n",
      "<genome.URDFLink object at 0x00000175EA2DCE60>\n",
      "<genome.URDFLink object at 0x00000175EA2DCF50>\n",
      "<genome.URDFLink object at 0x00000175EA2DD040>\n",
      "<genome.URDFLink object at 0x00000175EA2DD130>\n",
      "<genome.URDFLink object at 0x00000175EA2DD220>\n",
      "<genome.URDFLink object at 0x00000175EA2DD310>\n",
      "<genome.URDFLink object at 0x00000175EA2DD400>\n",
      "<genome.URDFLink object at 0x00000175EA2DD4F0>\n",
      "<genome.URDFLink object at 0x00000175EA2DD5E0>\n",
      "<genome.URDFLink object at 0x00000175EA2DD6D0>\n"
     ]
    },
    {
     "ename": "error",
     "evalue": "Cannot load URDF file.",
     "output_type": "error",
     "traceback": [
      "\u001b[31m---------------------------------------------------------------------------\u001b[39m",
      "\u001b[31merror\u001b[39m                                     Traceback (most recent call last)",
      "\u001b[36mCell\u001b[39m\u001b[36m \u001b[39m\u001b[32mIn[2]\u001b[39m\u001b[32m, line 6\u001b[39m\n\u001b[32m      3\u001b[39m \u001b[38;5;28;01mwith\u001b[39;00m \u001b[38;5;28mopen\u001b[39m(\u001b[33m'\u001b[39m\u001b[33mtest.urdf\u001b[39m\u001b[33m'\u001b[39m,\u001b[33m'\u001b[39m\u001b[33mw\u001b[39m\u001b[33m'\u001b[39m) \u001b[38;5;28;01mas\u001b[39;00m f:\n\u001b[32m      4\u001b[39m     f.write(xml_str)\n\u001b[32m----> \u001b[39m\u001b[32m6\u001b[39m cid = \u001b[43mp\u001b[49m\u001b[43m.\u001b[49m\u001b[43mloadURDF\u001b[49m\u001b[43m(\u001b[49m\u001b[33;43m'\u001b[39;49m\u001b[33;43mtest.urdf\u001b[39;49m\u001b[33;43m'\u001b[39;49m\u001b[43m)\u001b[49m\n",
      "\u001b[31merror\u001b[39m: Cannot load URDF file."
     ]
    }
   ],
   "source": [
    "c = creature.Creature(gene_count=5)\n",
    "xml_str = c.to_xml()\n",
    "print(xml_str)\n",
    "with open('test.urdf','w') as f:\n",
    "    f.write(xml_str)\n",
    "\n",
    "cid = p.loadURDF('test.urdf')"
   ]
  }
 ],
 "metadata": {
  "kernelspec": {
   "display_name": "Python 3 (ipykernel)",
   "language": "python",
   "name": "python3"
  },
  "language_info": {
   "codemirror_mode": {
    "name": "ipython",
    "version": 3
   },
   "file_extension": ".py",
   "mimetype": "text/x-python",
   "name": "python",
   "nbconvert_exporter": "python",
   "pygments_lexer": "ipython3",
   "version": "3.13.3"
  }
 },
 "nbformat": 4,
 "nbformat_minor": 5
}
